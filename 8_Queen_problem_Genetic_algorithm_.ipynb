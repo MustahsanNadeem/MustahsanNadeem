{
  "nbformat": 4,
  "nbformat_minor": 0,
  "metadata": {
    "colab": {
      "provenance": [],
      "authorship_tag": "ABX9TyOYEituO5Wy1CcI9S1YduDS",
      "include_colab_link": true
    },
    "kernelspec": {
      "name": "python3",
      "display_name": "Python 3"
    },
    "language_info": {
      "name": "python"
    }
  },
  "cells": [
    {
      "cell_type": "markdown",
      "metadata": {
        "id": "view-in-github",
        "colab_type": "text"
      },
      "source": [
        "<a href=\"https://colab.research.google.com/github/MustahsanNadeem/MustahsanNadeem/blob/main/8_Queen_problem_Genetic_algorithm_.ipynb\" target=\"_parent\"><img src=\"https://colab.research.google.com/assets/colab-badge.svg\" alt=\"Open In Colab\"/></a>"
      ]
    },
    {
      "cell_type": "code",
      "source": [
        "import random"
      ],
      "metadata": {
        "id": "NDHnpSiLd3Wr"
      },
      "execution_count": 23,
      "outputs": []
    },
    {
      "cell_type": "code",
      "source": [
        "def fitness(board):\n",
        "    non_attacking_pairs = 0\n",
        "    for i in range(len(board)):\n",
        "        for j in range(i + 1, len(board)):\n",
        "            if board[i] != board[j] and abs(board[i] - board[j]) != abs(i - j):\n",
        "                non_attacking_pairs += 1\n",
        "    return non_attacking_pairs"
      ],
      "metadata": {
        "id": "zjTqGMKAd-o9"
      },
      "execution_count": 24,
      "outputs": []
    },
    {
      "cell_type": "code",
      "source": [
        "def generate_population(size):\n",
        "    return [random.sample(range(1, 9), 8) for _ in range(size)]\n"
      ],
      "metadata": {
        "id": "1TF3abGzeE7R"
      },
      "execution_count": 32,
      "outputs": []
    },
    {
      "cell_type": "code",
      "source": [
        "def select(population):\n",
        "    population.sort(key=lambda x: fitness(x), reverse=True)\n",
        "    return population[:len(population)//2]\n"
      ],
      "metadata": {
        "id": "Bl0R12c0eMk4"
      },
      "execution_count": 33,
      "outputs": []
    },
    {
      "cell_type": "code",
      "source": [
        "def crossover(parent1, parent2):\n",
        "    crossover_point = random.randint(0, 7)\n",
        "    child = parent1[:crossover_point] + parent2[crossover_point:]\n",
        "    if len(set(child)) < 8:\n",
        "        child = random.sample(range(1, 9), 8)\n",
        "    return child"
      ],
      "metadata": {
        "id": "25ROCRfLeUo1"
      },
      "execution_count": 34,
      "outputs": []
    },
    {
      "cell_type": "code",
      "source": [
        "def mutate(board):\n",
        "    if random.uniform(0, 1) < 0.1:\n",
        "        i, j = random.sample(range(8), 2)\n",
        "        board[i], board[j] = board[j], board[i]"
      ],
      "metadata": {
        "id": "meiVDoKMedEM"
      },
      "execution_count": 35,
      "outputs": []
    },
    {
      "cell_type": "code",
      "source": [
        "def genetic_algorithm(population_size, generations):\n",
        "    population = generate_population(population_size)\n",
        "    for generation in range(generations):\n",
        "        population = select(population)\n",
        "        new_population = []\n",
        "        while len(new_population) < population_size:\n",
        "            parent1, parent2 = random.sample(population, 2)\n",
        "            child = crossover(parent1, parent2)\n",
        "            mutate(child)\n",
        "            new_population.append(child)\n",
        "        population = new_population\n",
        "        if fitness(population[0]) == 28:\n",
        "            break\n",
        "    return population[0]"
      ],
      "metadata": {
        "id": "S41FMKKRemqR"
      },
      "execution_count": 36,
      "outputs": []
    },
    {
      "cell_type": "code",
      "source": [
        "population_size = 100\n",
        "generations = 1000\n",
        "solution = genetic_algorithm(population_size, generations)\n"
      ],
      "metadata": {
        "id": "XfaZdPzIerjq"
      },
      "execution_count": 37,
      "outputs": []
    },
    {
      "cell_type": "code",
      "source": [
        "print(\"Solution:\", solution)\n",
        "print(\"Fitness:\", fitness(solution))"
      ],
      "metadata": {
        "colab": {
          "base_uri": "https://localhost:8080/"
        },
        "id": "3dpn6X6Re28g",
        "outputId": "4e7ad7f6-cad5-4324-d466-b039deb6cf67"
      },
      "execution_count": 38,
      "outputs": [
        {
          "output_type": "stream",
          "name": "stdout",
          "text": [
            "Solution: [2, 4, 6, 8, 3, 1, 7, 5]\n",
            "Fitness: 28\n"
          ]
        }
      ]
    }
  ]
}